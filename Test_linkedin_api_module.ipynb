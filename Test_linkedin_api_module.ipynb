{
 "cells": [
  {
   "cell_type": "markdown",
   "id": "329764f2",
   "metadata": {},
   "source": [
    "# Ejemplo de uso de API"
   ]
  },
  {
   "cell_type": "markdown",
   "id": "39b3236e",
   "metadata": {},
   "source": [
    "## Documentación\n",
    "\n",
    "[https://linkedin-api.readthedocs.io/en/latest/api.html](https://linkedin-api.readthedocs.io/en/latest/api.html)"
   ]
  },
  {
   "cell_type": "markdown",
   "id": "56755334",
   "metadata": {},
   "source": [
    "### Criterios para busquedas\n",
    "\n",
    "- Busquedas:\n",
    "    - Busqueda de empresas:\n",
    "        - Por nombre \n",
    "        - Por sector (Parece ser No viable desde el API)\n",
    "    - Busqueda personas:\n",
    "        - Por URL perfil\n",
    "        - Por sector (Unica que no puede ir sola)\n",
    "        - Por empresa\n",
    "        - Por skills o hashtags\n",
    "        - Por pertenecer a la red de alguien\n",
    "        - Por locacion\n",
    "        - Por lenguaje\n",
    "- Presentacion resultados:\n",
    "    - Tabulados de forma amena\n",
    "    - Exportados a Hoja de calculo"
   ]
  },
  {
   "cell_type": "markdown",
   "id": "42518ea9",
   "metadata": {},
   "source": [
    "### Notas\n",
    "\n",
    "- Este campo: \"urn:li:fs_industry:6\" define el sector, pero no se como parsearlo todavia.\n",
    "\n",
    "- Validar si la distancia funciona como criterio de aceptacion\n"
   ]
  },
  {
   "cell_type": "code",
   "execution_count": null,
   "id": "96120db7",
   "metadata": {},
   "outputs": [],
   "source": [
    "from linkedin_api import Linkedin\n",
    "import json\n",
    "from configparser import ConfigParser\n",
    "import pandas as pd\n",
    "import numpy as np"
   ]
  },
  {
   "cell_type": "code",
   "execution_count": null,
   "id": "c61ab632",
   "metadata": {},
   "outputs": [],
   "source": [
    "parser = ConfigParser()"
   ]
  },
  {
   "cell_type": "code",
   "execution_count": null,
   "id": "c45f2d26",
   "metadata": {},
   "outputs": [],
   "source": [
    "parser.read('config.cfg')"
   ]
  },
  {
   "cell_type": "code",
   "execution_count": null,
   "id": "fca25b3d",
   "metadata": {},
   "outputs": [],
   "source": [
    "parser.sections()"
   ]
  },
  {
   "cell_type": "code",
   "execution_count": null,
   "id": "d9cf8247",
   "metadata": {},
   "outputs": [],
   "source": [
    "credentials = parser['credentials']"
   ]
  },
  {
   "cell_type": "code",
   "execution_count": null,
   "id": "021b8180",
   "metadata": {},
   "outputs": [],
   "source": [
    "[x for x in credentials.keys()]"
   ]
  },
  {
   "cell_type": "code",
   "execution_count": null,
   "id": "2bf9fdd4",
   "metadata": {},
   "outputs": [],
   "source": [
    "#json_prof"
   ]
  },
  {
   "cell_type": "code",
   "execution_count": null,
   "id": "3a1f328d",
   "metadata": {},
   "outputs": [],
   "source": [
    "keywords = '''#statistic\n",
    "#statistics\n",
    "#statistician\n",
    "#bitcoin \n",
    "#datascience \n",
    "#data \n",
    "#stats \n",
    "#math \n",
    "#mathematics \n",
    "#dataanalytics \n",
    "#machinelearning \n",
    "#analytics \n",
    "#python \n",
    "#stica \n",
    "#cryptoexplorer \n",
    "#statistik\n",
    "#statisticsclass\n",
    "#statisticschallenge\n",
    "#statisticsboard\n",
    "#statisticshelp\n",
    "#statisticsday\n",
    "#statisticsandprobability\n",
    "#statisticsisfun\n",
    "#statisticsexam\n",
    "#statisticsteacher\n",
    "#statisticstutor'''\n",
    "keywords = keywords.replace(\"#\", \"\")\n",
    "keywords = keywords.split(\"\\n\")"
   ]
  },
  {
   "cell_type": "code",
   "execution_count": null,
   "id": "2c78a81b",
   "metadata": {},
   "outputs": [],
   "source": [
    "industries = '''Fintech\n",
    "Insurance\n",
    "Retail\n",
    "E-commerce \n",
    "Finance \n",
    "Open Banking'''\n",
    "industries = industries.split(\"\\n\")"
   ]
  },
  {
   "cell_type": "code",
   "execution_count": null,
   "id": "8ba86277",
   "metadata": {},
   "outputs": [],
   "source": [
    "class linkedin_search:\n",
    "    def __init__(self, user, passw):\n",
    "        self.user = user\n",
    "        self.passw = passw\n",
    "        self.last_query = None\n",
    "  \n",
    "    @property\n",
    "    def api(self):\n",
    "        return Linkedin(self.user, self.passw)\n",
    "    \n",
    "    def search_company(self, name):\n",
    "        self.company_data = self.api.get_company(name)\n",
    "        self.last_query = \"company\"\n",
    "        return self.company_data\n",
    "    \n",
    "    def search_by_profile(self, url_profile):\n",
    "        self.data_profile = self.api.get_profile(url_profile)\n",
    "        self.last_query = \"profile\"\n",
    "        return self.data_profile\n",
    "        \n",
    "    def search_people(self, \n",
    "                      keywords=None, \n",
    "                      connection_of=None, \n",
    "                      current_company=None, \n",
    "                      regions=['100876405'], \n",
    "                      industries=None,\n",
    "                      profile_languages=['es'],\n",
    "                      limit=10):\n",
    "        \n",
    "        self.lst_people = self.api.search_people(keywords=keywords, \n",
    "                                                 connection_of=connection_of, \n",
    "                                                 current_company=current_company, \n",
    "                                                 regions=regions, \n",
    "                                                 industries=industries, \n",
    "                                                 profile_languages=profile_languages,\n",
    "                                                 limit=limit)\n",
    "        \n",
    "        self.lst_single_data = []\n",
    "        for person in self.lst_people:\n",
    "            print(f\"Get info for urn_id:{person['urn_id']}\")\n",
    "            self.lst_single_data.append(self.api.get_profile(urn_id=person['urn_id']))\n",
    "        self.last_query = \"lst_profiles\"\n",
    "        return {'lst_people': self.lst_people, 'lst_all_data': self.lst_single_data}\n",
    "    \n",
    "    def parse_single_profile(self):\n",
    "        basic_df = pd.DataFrame({'Name': [self.data_profile['firstName'] + ' ' + self.data_profile['lastName']],\n",
    "                                 'Location': self.data_profile['locationName'],\n",
    "                                 'Profile_id': self.data_profile['profile_id'],\n",
    "                                 'Summary': self.data_profile['summary'],\n",
    "                                 'Actual_Title': self.data_profile['headline'],\n",
    "                                 'Skills': ', '.join([ x['name'] for x in self.data_profile['skills']])})\n",
    "        \n",
    "        experience_df = self.parse_experience(self.data_profile['experience'])\n",
    "        \n",
    "        complete_df = pd.merge(basic_df, experience_df, left_index=True, right_index=True, how='outer')\n",
    "        \n",
    "        return complete_df\n",
    "    \n",
    "    def parse_experience(self,lst_experience):\n",
    "        df_experience = pd.DataFrame(self.data_profile['experience'])\n",
    "        columns = ['locationName', 'companyName', 'title', 'timePeriod']\n",
    "        df_experience = df_experience[columns]\n",
    "        df_experience.columns = ['Location_Name', 'Company_Name', 'Title', 'Time_Period']\n",
    "        return df_experience\n",
    "    \n",
    "    def parse_many_proiles(self):\n",
    "        lst_parsed = []\n",
    "        for index, profile in enumerate(self.lst_single_data):\n",
    "            print(f'Parse profile number: {index+1}')\n",
    "            self.data_profile = profile\n",
    "            lst_parsed.append(self.parse_single_profile())\n",
    "        return pd.concat(lst_parsed).reset_index(drop=True)\n",
    "    \n",
    "    def parse_company_data(self):\n",
    "        pass\n",
    "        \n",
    "    def export_to_dataframe(self):\n",
    "        if self.last_query == \"company\":\n",
    "            return parse_company_data()\n",
    "        if self.last_query == \"profile\":\n",
    "            return self.parse_single_profile()\n",
    "        if self.last_query == \"lst_profiles\":\n",
    "            return self.parse_many_proiles()\n",
    "        "
   ]
  },
  {
   "cell_type": "markdown",
   "id": "4964a65f",
   "metadata": {},
   "source": [
    "## 1. Busquedas por perfil"
   ]
  },
  {
   "cell_type": "code",
   "execution_count": null,
   "id": "60031e1c",
   "metadata": {},
   "outputs": [],
   "source": [
    "my_search = linkedin_search(credentials['user'], credentials['pass'])"
   ]
  },
  {
   "cell_type": "code",
   "execution_count": null,
   "id": "e3ed3e7e",
   "metadata": {},
   "outputs": [],
   "source": [
    "data_profile = my_search.search_by_profile('camilo-reyes-02913564')"
   ]
  },
  {
   "cell_type": "code",
   "execution_count": null,
   "id": "b162e422",
   "metadata": {},
   "outputs": [],
   "source": [
    "data_profile"
   ]
  },
  {
   "cell_type": "code",
   "execution_count": null,
   "id": "a130581d",
   "metadata": {},
   "outputs": [],
   "source": [
    "df_profile = my_search.export_to_dataframe()\n",
    "df_profile"
   ]
  },
  {
   "cell_type": "code",
   "execution_count": null,
   "id": "20c9930c",
   "metadata": {},
   "outputs": [],
   "source": [
    "df_profile.to_excel(f'Perfil_{(df_profile.iloc[0][\"Name\"]).replace(\" \",\"_\")}.xlsx', index=False)"
   ]
  },
  {
   "cell_type": "markdown",
   "id": "23548925",
   "metadata": {},
   "source": [
    "## 2. Busquedas por compañia"
   ]
  },
  {
   "cell_type": "code",
   "execution_count": null,
   "id": "0a7b447b",
   "metadata": {},
   "outputs": [],
   "source": [
    "data_company = my_search.search_company('Mercadolibre')"
   ]
  },
  {
   "cell_type": "code",
   "execution_count": null,
   "id": "f58cdd69",
   "metadata": {},
   "outputs": [],
   "source": [
    "data_company"
   ]
  },
  {
   "cell_type": "markdown",
   "id": "88a228be",
   "metadata": {},
   "source": [
    "### 2.1 Validacion mediante herramienta externa\n",
    "\n",
    "[Json viewer](http://jsonviewer.stack.hu/)"
   ]
  },
  {
   "cell_type": "code",
   "execution_count": null,
   "id": "93ff1029",
   "metadata": {},
   "outputs": [],
   "source": [
    "json.dumps(data_company)"
   ]
  },
  {
   "cell_type": "code",
   "execution_count": null,
   "id": "3f145e11",
   "metadata": {},
   "outputs": [],
   "source": [
    "data_company['entityUrn']"
   ]
  },
  {
   "cell_type": "markdown",
   "id": "d0c3ce40",
   "metadata": {},
   "source": [
    "## 3. Busqueda personas bajo palabras clave"
   ]
  },
  {
   "cell_type": "code",
   "execution_count": null,
   "id": "855535f7",
   "metadata": {},
   "outputs": [],
   "source": [
    "lst_people = my_search.search_people(keywords=['Data', 'Scientist'], limit=10)"
   ]
  },
  {
   "cell_type": "code",
   "execution_count": null,
   "id": "29f4dcba",
   "metadata": {},
   "outputs": [],
   "source": [
    "lst_people['lst_people']"
   ]
  },
  {
   "cell_type": "code",
   "execution_count": null,
   "id": "459f3597",
   "metadata": {},
   "outputs": [],
   "source": [
    "lst_people['lst_all_data']"
   ]
  },
  {
   "cell_type": "code",
   "execution_count": null,
   "id": "43151b43",
   "metadata": {},
   "outputs": [],
   "source": [
    "df_many_profiles = my_search.export_to_dataframe()"
   ]
  },
  {
   "cell_type": "code",
   "execution_count": null,
   "id": "5ed5e52f",
   "metadata": {},
   "outputs": [],
   "source": [
    "df_many_profiles.to_excel('Many_profiles.xlsx', index=False)"
   ]
  },
  {
   "cell_type": "markdown",
   "id": "74450b6b",
   "metadata": {},
   "source": [
    "## 4. Envio de mensajes personalizados"
   ]
  },
  {
   "cell_type": "markdown",
   "id": "21782558",
   "metadata": {},
   "source": [
    "Paara hacer el envio de mensajes debe proporcionarse el campo: ***'entityUrn': 'urn:li:fs_profile:'*** del perdil del usuario "
   ]
  },
  {
   "cell_type": "code",
   "execution_count": null,
   "id": "f9d4ad8e",
   "metadata": {},
   "outputs": [],
   "source": [
    "api= my_search.api"
   ]
  },
  {
   "cell_type": "code",
   "execution_count": null,
   "id": "f1eaebc2",
   "metadata": {},
   "outputs": [],
   "source": [
    "api.send_message(recipients=['ACoAAA2LoOEB496sl7nq_lrn3y2Bk7HwhGu8-HQ'], message_body='Prueba mensajes')"
   ]
  }
 ],
 "metadata": {
  "kernelspec": {
   "display_name": "Python 3 (ipykernel)",
   "language": "python",
   "name": "python3"
  },
  "language_info": {
   "codemirror_mode": {
    "name": "ipython",
    "version": 3
   },
   "file_extension": ".py",
   "mimetype": "text/x-python",
   "name": "python",
   "nbconvert_exporter": "python",
   "pygments_lexer": "ipython3",
   "version": "3.9.14"
  }
 },
 "nbformat": 4,
 "nbformat_minor": 5
}
